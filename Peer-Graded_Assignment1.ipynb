{
 "cells": [
  {
   "cell_type": "markdown",
   "id": "5b20e8e2-80df-4c3f-ad2c-64e6db08cc73",
   "metadata": {},
   "source": [
    "# My Jupyter Notebook on IBM Watson Studio"
   ]
  },
  {
   "cell_type": "markdown",
   "id": "085ac114-440c-4b01-b38b-0210e5728ce5",
   "metadata": {},
   "source": [
    "**Mahindrakar Sourabh**\n",
    "\n",
    "Intern @ Cognida"
   ]
  },
  {
   "cell_type": "markdown",
   "id": "fcd98379-5a40-4dff-9c97-6b26c14b1c17",
   "metadata": {},
   "source": [
    "*I am interested in Data Science because I love to play with data*\n"
   ]
  },
  {
   "cell_type": "markdown",
   "id": "2aafb7d2-d109-43e5-b19a-470b65c8b38f",
   "metadata": {},
   "source": [
    "### Write any code may be it can be mathematical operation in python and execute the code"
   ]
  },
  {
   "cell_type": "code",
   "execution_count": 1,
   "id": "00fca48d-dd9d-4b6e-af3b-862c5f68ad80",
   "metadata": {},
   "outputs": [
    {
     "name": "stdout",
     "output_type": "stream",
     "text": [
      "7\n"
     ]
    }
   ],
   "source": [
    "print(3+4)"
   ]
  },
  {
   "cell_type": "markdown",
   "id": "e8d67494-c753-4f23-8c22-f98806c64daa",
   "metadata": {},
   "source": [
    "- Main bullet\n",
    "    - sub bullet 1\n",
    "    - sub bullet 2\n",
    "    - sub bullet 3\n",
    "\n",
    "1 Main numbered bullet\n",
    "\n",
    "    1 sub item\n",
    "    2 sub item\n",
    "    3 sub item\n",
    "    \n",
    "***\n",
    "\n",
    "__[ ALL ABOUT ME](https://www.linkedin.com/in/sourabh-mahindrakar-7459541b0)__\n"
   ]
  },
  {
   "cell_type": "code",
   "execution_count": null,
   "id": "a1cbe7b8-0660-432e-b8d8-a9264315791e",
   "metadata": {},
   "outputs": [],
   "source": []
  }
 ],
 "metadata": {
  "kernelspec": {
   "display_name": "Python",
   "language": "python",
   "name": "conda-env-python-py"
  },
  "language_info": {
   "codemirror_mode": {
    "name": "ipython",
    "version": 3
   },
   "file_extension": ".py",
   "mimetype": "text/x-python",
   "name": "python",
   "nbconvert_exporter": "python",
   "pygments_lexer": "ipython3",
   "version": "3.7.12"
  }
 },
 "nbformat": 4,
 "nbformat_minor": 5
}
